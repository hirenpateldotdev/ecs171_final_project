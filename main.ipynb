{
  "nbformat": 4,
  "nbformat_minor": 0,
  "metadata": {
    "colab": {
      "provenance": []
    },
    "kernelspec": {
      "name": "python3",
      "display_name": "Python 3"
    },
    "language_info": {
      "name": "python"
    }
  },
  "cells": [
    {
      "cell_type": "markdown",
      "source": [
        "# Data Exploration"
      ],
      "metadata": {
        "id": "SmEfQ8uSxfL6"
      }
    },
    {
      "cell_type": "markdown",
      "source": [
        "We are using the Sign Language MNIST datasets from Kaggle.\n",
        "\n",
        "But first, we are importing all the libraries needed."
      ],
      "metadata": {
        "id": "uvd6iYIWxj9V"
      }
    },
    {
      "cell_type": "code",
      "source": [
        "import numpy as np \n",
        "import pandas as pd \n",
        "        \n",
        "import matplotlib.pyplot as plt \n",
        "import seaborn as sns \n"
      ],
      "metadata": {
        "id": "meoinyC94Eh7"
      },
      "execution_count": 3,
      "outputs": []
    },
    {
      "cell_type": "markdown",
      "source": [
        "The datasets that we found from kaggle were separated into training and testing csv files. We've uploaded those zip files to the Gihub repo. Here we are unzipping those files."
      ],
      "metadata": {
        "id": "HZjdu0efZkjp"
      }
    },
    {
      "cell_type": "code",
      "source": [
        "# getting the train and test data sets from github repo\n",
        "url_train = \"https://github.com/hirenpateldotdev/ecs171_final_project/raw/main/sign_mnist_train.csv.zip\"\n",
        "!wget -O data_train.zip \"$url_train\"\n",
        "!unzip data_train.zip\n",
        "\n",
        "url_test = \"https://github.com/hirenpateldotdev/ecs171_final_project/raw/main/sign_mnist_test.csv.zip\"\n",
        "!wget -O data_test.zip \"$url_test\"\n",
        "!unzip data_test.zip\n",
        "\n"
      ],
      "metadata": {
        "colab": {
          "base_uri": "https://localhost:8080/"
        },
        "id": "cmRT8HKM2Hpi",
        "outputId": "7737c523-05d2-4362-8063-29c95897167f"
      },
      "execution_count": 4,
      "outputs": [
        {
          "output_type": "stream",
          "name": "stdout",
          "text": [
            "--2022-11-28 19:32:10--  https://github.com/hirenpateldotdev/ecs171_final_project/raw/main/sign_mnist_train.csv.zip\n",
            "Resolving github.com (github.com)... 140.82.114.3\n",
            "Connecting to github.com (github.com)|140.82.114.3|:443... connected.\n",
            "HTTP request sent, awaiting response... 302 Found\n",
            "Location: https://raw.githubusercontent.com/hirenpateldotdev/ecs171_final_project/main/sign_mnist_train.csv.zip [following]\n",
            "--2022-11-28 19:32:10--  https://raw.githubusercontent.com/hirenpateldotdev/ecs171_final_project/main/sign_mnist_train.csv.zip\n",
            "Resolving raw.githubusercontent.com (raw.githubusercontent.com)... 185.199.108.133, 185.199.109.133, 185.199.110.133, ...\n",
            "Connecting to raw.githubusercontent.com (raw.githubusercontent.com)|185.199.108.133|:443... connected.\n",
            "HTTP request sent, awaiting response... 200 OK\n",
            "Length: 25759917 (25M) [application/zip]\n",
            "Saving to: ‘data_train.zip’\n",
            "\n",
            "data_train.zip      100%[===================>]  24.57M  74.7MB/s    in 0.3s    \n",
            "\n",
            "2022-11-28 19:32:10 (74.7 MB/s) - ‘data_train.zip’ saved [25759917/25759917]\n",
            "\n",
            "Archive:  data_train.zip\n",
            "  inflating: sign_mnist_train.csv    \n",
            "--2022-11-28 19:32:13--  https://github.com/hirenpateldotdev/ecs171_final_project/raw/main/sign_mnist_test.csv.zip\n",
            "Resolving github.com (github.com)... 140.82.114.3\n",
            "Connecting to github.com (github.com)|140.82.114.3|:443... connected.\n",
            "HTTP request sent, awaiting response... 302 Found\n",
            "Location: https://raw.githubusercontent.com/hirenpateldotdev/ecs171_final_project/main/sign_mnist_test.csv.zip [following]\n",
            "--2022-11-28 19:32:13--  https://raw.githubusercontent.com/hirenpateldotdev/ecs171_final_project/main/sign_mnist_test.csv.zip\n",
            "Resolving raw.githubusercontent.com (raw.githubusercontent.com)... 185.199.108.133, 185.199.109.133, 185.199.110.133, ...\n",
            "Connecting to raw.githubusercontent.com (raw.githubusercontent.com)|185.199.108.133|:443... connected.\n",
            "HTTP request sent, awaiting response... 200 OK\n",
            "Length: 6688121 (6.4M) [application/zip]\n",
            "Saving to: ‘data_test.zip’\n",
            "\n",
            "data_test.zip       100%[===================>]   6.38M  --.-KB/s    in 0.1s    \n",
            "\n",
            "2022-11-28 19:32:14 (66.0 MB/s) - ‘data_test.zip’ saved [6688121/6688121]\n",
            "\n",
            "Archive:  data_test.zip\n",
            "  inflating: sign_mnist_test.csv     \n"
          ]
        }
      ]
    },
    {
      "cell_type": "markdown",
      "source": [
        "Next we read the files. The size of the training and testing data are 27455 and 7172 respectively, each with one column named \"label\" indicating the alphabet the row referes to and 784 pixels, for an image of 28 X 28 pixels.\n",
        "\n",
        "We want to merge the training and testing data into one file so in later steps we can apply cross validation to ensure the model is learning and predicting values as best as possible."
      ],
      "metadata": {
        "id": "FTWfUi3naMVE"
      }
    },
    {
      "cell_type": "code",
      "source": [
        "df_train = pd.read_csv(\"./sign_mnist_train.csv\")\n",
        "df_test = pd.read_csv(\"./sign_mnist_test.csv\")\n",
        "display(df_train.shape, df_train.head())\n",
        "display(df_test.shape, df_test.head())\n",
        "\n"
      ],
      "metadata": {
        "id": "6t9x_geE4W9e",
        "colab": {
          "base_uri": "https://localhost:8080/",
          "height": 533
        },
        "outputId": "17f7c145-1ed3-4441-8308-e3d2a404237a"
      },
      "execution_count": 5,
      "outputs": [
        {
          "output_type": "display_data",
          "data": {
            "text/plain": [
              "(27455, 785)"
            ]
          },
          "metadata": {}
        },
        {
          "output_type": "display_data",
          "data": {
            "text/plain": [
              "   label  pixel1  pixel2  pixel3  pixel4  pixel5  pixel6  pixel7  pixel8  \\\n",
              "0      3     107     118     127     134     139     143     146     150   \n",
              "1      6     155     157     156     156     156     157     156     158   \n",
              "2      2     187     188     188     187     187     186     187     188   \n",
              "3      2     211     211     212     212     211     210     211     210   \n",
              "4     13     164     167     170     172     176     179     180     184   \n",
              "\n",
              "   pixel9  ...  pixel775  pixel776  pixel777  pixel778  pixel779  pixel780  \\\n",
              "0     153  ...       207       207       207       207       206       206   \n",
              "1     158  ...        69       149       128        87        94       163   \n",
              "2     187  ...       202       201       200       199       198       199   \n",
              "3     210  ...       235       234       233       231       230       226   \n",
              "4     185  ...        92       105       105       108       133       163   \n",
              "\n",
              "   pixel781  pixel782  pixel783  pixel784  \n",
              "0       206       204       203       202  \n",
              "1       175       103       135       149  \n",
              "2       198       195       194       195  \n",
              "3       225       222       229       163  \n",
              "4       157       163       164       179  \n",
              "\n",
              "[5 rows x 785 columns]"
            ],
            "text/html": [
              "\n",
              "  <div id=\"df-2e82cc9c-05a9-4da4-aefd-e489f209c1b4\">\n",
              "    <div class=\"colab-df-container\">\n",
              "      <div>\n",
              "<style scoped>\n",
              "    .dataframe tbody tr th:only-of-type {\n",
              "        vertical-align: middle;\n",
              "    }\n",
              "\n",
              "    .dataframe tbody tr th {\n",
              "        vertical-align: top;\n",
              "    }\n",
              "\n",
              "    .dataframe thead th {\n",
              "        text-align: right;\n",
              "    }\n",
              "</style>\n",
              "<table border=\"1\" class=\"dataframe\">\n",
              "  <thead>\n",
              "    <tr style=\"text-align: right;\">\n",
              "      <th></th>\n",
              "      <th>label</th>\n",
              "      <th>pixel1</th>\n",
              "      <th>pixel2</th>\n",
              "      <th>pixel3</th>\n",
              "      <th>pixel4</th>\n",
              "      <th>pixel5</th>\n",
              "      <th>pixel6</th>\n",
              "      <th>pixel7</th>\n",
              "      <th>pixel8</th>\n",
              "      <th>pixel9</th>\n",
              "      <th>...</th>\n",
              "      <th>pixel775</th>\n",
              "      <th>pixel776</th>\n",
              "      <th>pixel777</th>\n",
              "      <th>pixel778</th>\n",
              "      <th>pixel779</th>\n",
              "      <th>pixel780</th>\n",
              "      <th>pixel781</th>\n",
              "      <th>pixel782</th>\n",
              "      <th>pixel783</th>\n",
              "      <th>pixel784</th>\n",
              "    </tr>\n",
              "  </thead>\n",
              "  <tbody>\n",
              "    <tr>\n",
              "      <th>0</th>\n",
              "      <td>3</td>\n",
              "      <td>107</td>\n",
              "      <td>118</td>\n",
              "      <td>127</td>\n",
              "      <td>134</td>\n",
              "      <td>139</td>\n",
              "      <td>143</td>\n",
              "      <td>146</td>\n",
              "      <td>150</td>\n",
              "      <td>153</td>\n",
              "      <td>...</td>\n",
              "      <td>207</td>\n",
              "      <td>207</td>\n",
              "      <td>207</td>\n",
              "      <td>207</td>\n",
              "      <td>206</td>\n",
              "      <td>206</td>\n",
              "      <td>206</td>\n",
              "      <td>204</td>\n",
              "      <td>203</td>\n",
              "      <td>202</td>\n",
              "    </tr>\n",
              "    <tr>\n",
              "      <th>1</th>\n",
              "      <td>6</td>\n",
              "      <td>155</td>\n",
              "      <td>157</td>\n",
              "      <td>156</td>\n",
              "      <td>156</td>\n",
              "      <td>156</td>\n",
              "      <td>157</td>\n",
              "      <td>156</td>\n",
              "      <td>158</td>\n",
              "      <td>158</td>\n",
              "      <td>...</td>\n",
              "      <td>69</td>\n",
              "      <td>149</td>\n",
              "      <td>128</td>\n",
              "      <td>87</td>\n",
              "      <td>94</td>\n",
              "      <td>163</td>\n",
              "      <td>175</td>\n",
              "      <td>103</td>\n",
              "      <td>135</td>\n",
              "      <td>149</td>\n",
              "    </tr>\n",
              "    <tr>\n",
              "      <th>2</th>\n",
              "      <td>2</td>\n",
              "      <td>187</td>\n",
              "      <td>188</td>\n",
              "      <td>188</td>\n",
              "      <td>187</td>\n",
              "      <td>187</td>\n",
              "      <td>186</td>\n",
              "      <td>187</td>\n",
              "      <td>188</td>\n",
              "      <td>187</td>\n",
              "      <td>...</td>\n",
              "      <td>202</td>\n",
              "      <td>201</td>\n",
              "      <td>200</td>\n",
              "      <td>199</td>\n",
              "      <td>198</td>\n",
              "      <td>199</td>\n",
              "      <td>198</td>\n",
              "      <td>195</td>\n",
              "      <td>194</td>\n",
              "      <td>195</td>\n",
              "    </tr>\n",
              "    <tr>\n",
              "      <th>3</th>\n",
              "      <td>2</td>\n",
              "      <td>211</td>\n",
              "      <td>211</td>\n",
              "      <td>212</td>\n",
              "      <td>212</td>\n",
              "      <td>211</td>\n",
              "      <td>210</td>\n",
              "      <td>211</td>\n",
              "      <td>210</td>\n",
              "      <td>210</td>\n",
              "      <td>...</td>\n",
              "      <td>235</td>\n",
              "      <td>234</td>\n",
              "      <td>233</td>\n",
              "      <td>231</td>\n",
              "      <td>230</td>\n",
              "      <td>226</td>\n",
              "      <td>225</td>\n",
              "      <td>222</td>\n",
              "      <td>229</td>\n",
              "      <td>163</td>\n",
              "    </tr>\n",
              "    <tr>\n",
              "      <th>4</th>\n",
              "      <td>13</td>\n",
              "      <td>164</td>\n",
              "      <td>167</td>\n",
              "      <td>170</td>\n",
              "      <td>172</td>\n",
              "      <td>176</td>\n",
              "      <td>179</td>\n",
              "      <td>180</td>\n",
              "      <td>184</td>\n",
              "      <td>185</td>\n",
              "      <td>...</td>\n",
              "      <td>92</td>\n",
              "      <td>105</td>\n",
              "      <td>105</td>\n",
              "      <td>108</td>\n",
              "      <td>133</td>\n",
              "      <td>163</td>\n",
              "      <td>157</td>\n",
              "      <td>163</td>\n",
              "      <td>164</td>\n",
              "      <td>179</td>\n",
              "    </tr>\n",
              "  </tbody>\n",
              "</table>\n",
              "<p>5 rows × 785 columns</p>\n",
              "</div>\n",
              "      <button class=\"colab-df-convert\" onclick=\"convertToInteractive('df-2e82cc9c-05a9-4da4-aefd-e489f209c1b4')\"\n",
              "              title=\"Convert this dataframe to an interactive table.\"\n",
              "              style=\"display:none;\">\n",
              "        \n",
              "  <svg xmlns=\"http://www.w3.org/2000/svg\" height=\"24px\"viewBox=\"0 0 24 24\"\n",
              "       width=\"24px\">\n",
              "    <path d=\"M0 0h24v24H0V0z\" fill=\"none\"/>\n",
              "    <path d=\"M18.56 5.44l.94 2.06.94-2.06 2.06-.94-2.06-.94-.94-2.06-.94 2.06-2.06.94zm-11 1L8.5 8.5l.94-2.06 2.06-.94-2.06-.94L8.5 2.5l-.94 2.06-2.06.94zm10 10l.94 2.06.94-2.06 2.06-.94-2.06-.94-.94-2.06-.94 2.06-2.06.94z\"/><path d=\"M17.41 7.96l-1.37-1.37c-.4-.4-.92-.59-1.43-.59-.52 0-1.04.2-1.43.59L10.3 9.45l-7.72 7.72c-.78.78-.78 2.05 0 2.83L4 21.41c.39.39.9.59 1.41.59.51 0 1.02-.2 1.41-.59l7.78-7.78 2.81-2.81c.8-.78.8-2.07 0-2.86zM5.41 20L4 18.59l7.72-7.72 1.47 1.35L5.41 20z\"/>\n",
              "  </svg>\n",
              "      </button>\n",
              "      \n",
              "  <style>\n",
              "    .colab-df-container {\n",
              "      display:flex;\n",
              "      flex-wrap:wrap;\n",
              "      gap: 12px;\n",
              "    }\n",
              "\n",
              "    .colab-df-convert {\n",
              "      background-color: #E8F0FE;\n",
              "      border: none;\n",
              "      border-radius: 50%;\n",
              "      cursor: pointer;\n",
              "      display: none;\n",
              "      fill: #1967D2;\n",
              "      height: 32px;\n",
              "      padding: 0 0 0 0;\n",
              "      width: 32px;\n",
              "    }\n",
              "\n",
              "    .colab-df-convert:hover {\n",
              "      background-color: #E2EBFA;\n",
              "      box-shadow: 0px 1px 2px rgba(60, 64, 67, 0.3), 0px 1px 3px 1px rgba(60, 64, 67, 0.15);\n",
              "      fill: #174EA6;\n",
              "    }\n",
              "\n",
              "    [theme=dark] .colab-df-convert {\n",
              "      background-color: #3B4455;\n",
              "      fill: #D2E3FC;\n",
              "    }\n",
              "\n",
              "    [theme=dark] .colab-df-convert:hover {\n",
              "      background-color: #434B5C;\n",
              "      box-shadow: 0px 1px 3px 1px rgba(0, 0, 0, 0.15);\n",
              "      filter: drop-shadow(0px 1px 2px rgba(0, 0, 0, 0.3));\n",
              "      fill: #FFFFFF;\n",
              "    }\n",
              "  </style>\n",
              "\n",
              "      <script>\n",
              "        const buttonEl =\n",
              "          document.querySelector('#df-2e82cc9c-05a9-4da4-aefd-e489f209c1b4 button.colab-df-convert');\n",
              "        buttonEl.style.display =\n",
              "          google.colab.kernel.accessAllowed ? 'block' : 'none';\n",
              "\n",
              "        async function convertToInteractive(key) {\n",
              "          const element = document.querySelector('#df-2e82cc9c-05a9-4da4-aefd-e489f209c1b4');\n",
              "          const dataTable =\n",
              "            await google.colab.kernel.invokeFunction('convertToInteractive',\n",
              "                                                     [key], {});\n",
              "          if (!dataTable) return;\n",
              "\n",
              "          const docLinkHtml = 'Like what you see? Visit the ' +\n",
              "            '<a target=\"_blank\" href=https://colab.research.google.com/notebooks/data_table.ipynb>data table notebook</a>'\n",
              "            + ' to learn more about interactive tables.';\n",
              "          element.innerHTML = '';\n",
              "          dataTable['output_type'] = 'display_data';\n",
              "          await google.colab.output.renderOutput(dataTable, element);\n",
              "          const docLink = document.createElement('div');\n",
              "          docLink.innerHTML = docLinkHtml;\n",
              "          element.appendChild(docLink);\n",
              "        }\n",
              "      </script>\n",
              "    </div>\n",
              "  </div>\n",
              "  "
            ]
          },
          "metadata": {}
        },
        {
          "output_type": "display_data",
          "data": {
            "text/plain": [
              "(7172, 785)"
            ]
          },
          "metadata": {}
        },
        {
          "output_type": "display_data",
          "data": {
            "text/plain": [
              "   label  pixel1  pixel2  pixel3  pixel4  pixel5  pixel6  pixel7  pixel8  \\\n",
              "0      6     149     149     150     150     150     151     151     150   \n",
              "1      5     126     128     131     132     133     134     135     135   \n",
              "2     10      85      88      92      96     105     123     135     143   \n",
              "3      0     203     205     207     206     207     209     210     209   \n",
              "4      3     188     191     193     195     199     201     202     203   \n",
              "\n",
              "   pixel9  ...  pixel775  pixel776  pixel777  pixel778  pixel779  pixel780  \\\n",
              "0     151  ...       138       148       127        89        82        96   \n",
              "1     136  ...        47       104       194       183       186       184   \n",
              "2     147  ...        68       166       242       227       230       227   \n",
              "3     210  ...       154       248       247       248       253       236   \n",
              "4     203  ...        26        40        64        48        29        46   \n",
              "\n",
              "   pixel781  pixel782  pixel783  pixel784  \n",
              "0       106       112       120       107  \n",
              "1       184       184       182       180  \n",
              "2       226       225       224       222  \n",
              "3       230       240       253       255  \n",
              "4        49        46        46        53  \n",
              "\n",
              "[5 rows x 785 columns]"
            ],
            "text/html": [
              "\n",
              "  <div id=\"df-4e61567e-074b-42b6-8094-f15226a1819f\">\n",
              "    <div class=\"colab-df-container\">\n",
              "      <div>\n",
              "<style scoped>\n",
              "    .dataframe tbody tr th:only-of-type {\n",
              "        vertical-align: middle;\n",
              "    }\n",
              "\n",
              "    .dataframe tbody tr th {\n",
              "        vertical-align: top;\n",
              "    }\n",
              "\n",
              "    .dataframe thead th {\n",
              "        text-align: right;\n",
              "    }\n",
              "</style>\n",
              "<table border=\"1\" class=\"dataframe\">\n",
              "  <thead>\n",
              "    <tr style=\"text-align: right;\">\n",
              "      <th></th>\n",
              "      <th>label</th>\n",
              "      <th>pixel1</th>\n",
              "      <th>pixel2</th>\n",
              "      <th>pixel3</th>\n",
              "      <th>pixel4</th>\n",
              "      <th>pixel5</th>\n",
              "      <th>pixel6</th>\n",
              "      <th>pixel7</th>\n",
              "      <th>pixel8</th>\n",
              "      <th>pixel9</th>\n",
              "      <th>...</th>\n",
              "      <th>pixel775</th>\n",
              "      <th>pixel776</th>\n",
              "      <th>pixel777</th>\n",
              "      <th>pixel778</th>\n",
              "      <th>pixel779</th>\n",
              "      <th>pixel780</th>\n",
              "      <th>pixel781</th>\n",
              "      <th>pixel782</th>\n",
              "      <th>pixel783</th>\n",
              "      <th>pixel784</th>\n",
              "    </tr>\n",
              "  </thead>\n",
              "  <tbody>\n",
              "    <tr>\n",
              "      <th>0</th>\n",
              "      <td>6</td>\n",
              "      <td>149</td>\n",
              "      <td>149</td>\n",
              "      <td>150</td>\n",
              "      <td>150</td>\n",
              "      <td>150</td>\n",
              "      <td>151</td>\n",
              "      <td>151</td>\n",
              "      <td>150</td>\n",
              "      <td>151</td>\n",
              "      <td>...</td>\n",
              "      <td>138</td>\n",
              "      <td>148</td>\n",
              "      <td>127</td>\n",
              "      <td>89</td>\n",
              "      <td>82</td>\n",
              "      <td>96</td>\n",
              "      <td>106</td>\n",
              "      <td>112</td>\n",
              "      <td>120</td>\n",
              "      <td>107</td>\n",
              "    </tr>\n",
              "    <tr>\n",
              "      <th>1</th>\n",
              "      <td>5</td>\n",
              "      <td>126</td>\n",
              "      <td>128</td>\n",
              "      <td>131</td>\n",
              "      <td>132</td>\n",
              "      <td>133</td>\n",
              "      <td>134</td>\n",
              "      <td>135</td>\n",
              "      <td>135</td>\n",
              "      <td>136</td>\n",
              "      <td>...</td>\n",
              "      <td>47</td>\n",
              "      <td>104</td>\n",
              "      <td>194</td>\n",
              "      <td>183</td>\n",
              "      <td>186</td>\n",
              "      <td>184</td>\n",
              "      <td>184</td>\n",
              "      <td>184</td>\n",
              "      <td>182</td>\n",
              "      <td>180</td>\n",
              "    </tr>\n",
              "    <tr>\n",
              "      <th>2</th>\n",
              "      <td>10</td>\n",
              "      <td>85</td>\n",
              "      <td>88</td>\n",
              "      <td>92</td>\n",
              "      <td>96</td>\n",
              "      <td>105</td>\n",
              "      <td>123</td>\n",
              "      <td>135</td>\n",
              "      <td>143</td>\n",
              "      <td>147</td>\n",
              "      <td>...</td>\n",
              "      <td>68</td>\n",
              "      <td>166</td>\n",
              "      <td>242</td>\n",
              "      <td>227</td>\n",
              "      <td>230</td>\n",
              "      <td>227</td>\n",
              "      <td>226</td>\n",
              "      <td>225</td>\n",
              "      <td>224</td>\n",
              "      <td>222</td>\n",
              "    </tr>\n",
              "    <tr>\n",
              "      <th>3</th>\n",
              "      <td>0</td>\n",
              "      <td>203</td>\n",
              "      <td>205</td>\n",
              "      <td>207</td>\n",
              "      <td>206</td>\n",
              "      <td>207</td>\n",
              "      <td>209</td>\n",
              "      <td>210</td>\n",
              "      <td>209</td>\n",
              "      <td>210</td>\n",
              "      <td>...</td>\n",
              "      <td>154</td>\n",
              "      <td>248</td>\n",
              "      <td>247</td>\n",
              "      <td>248</td>\n",
              "      <td>253</td>\n",
              "      <td>236</td>\n",
              "      <td>230</td>\n",
              "      <td>240</td>\n",
              "      <td>253</td>\n",
              "      <td>255</td>\n",
              "    </tr>\n",
              "    <tr>\n",
              "      <th>4</th>\n",
              "      <td>3</td>\n",
              "      <td>188</td>\n",
              "      <td>191</td>\n",
              "      <td>193</td>\n",
              "      <td>195</td>\n",
              "      <td>199</td>\n",
              "      <td>201</td>\n",
              "      <td>202</td>\n",
              "      <td>203</td>\n",
              "      <td>203</td>\n",
              "      <td>...</td>\n",
              "      <td>26</td>\n",
              "      <td>40</td>\n",
              "      <td>64</td>\n",
              "      <td>48</td>\n",
              "      <td>29</td>\n",
              "      <td>46</td>\n",
              "      <td>49</td>\n",
              "      <td>46</td>\n",
              "      <td>46</td>\n",
              "      <td>53</td>\n",
              "    </tr>\n",
              "  </tbody>\n",
              "</table>\n",
              "<p>5 rows × 785 columns</p>\n",
              "</div>\n",
              "      <button class=\"colab-df-convert\" onclick=\"convertToInteractive('df-4e61567e-074b-42b6-8094-f15226a1819f')\"\n",
              "              title=\"Convert this dataframe to an interactive table.\"\n",
              "              style=\"display:none;\">\n",
              "        \n",
              "  <svg xmlns=\"http://www.w3.org/2000/svg\" height=\"24px\"viewBox=\"0 0 24 24\"\n",
              "       width=\"24px\">\n",
              "    <path d=\"M0 0h24v24H0V0z\" fill=\"none\"/>\n",
              "    <path d=\"M18.56 5.44l.94 2.06.94-2.06 2.06-.94-2.06-.94-.94-2.06-.94 2.06-2.06.94zm-11 1L8.5 8.5l.94-2.06 2.06-.94-2.06-.94L8.5 2.5l-.94 2.06-2.06.94zm10 10l.94 2.06.94-2.06 2.06-.94-2.06-.94-.94-2.06-.94 2.06-2.06.94z\"/><path d=\"M17.41 7.96l-1.37-1.37c-.4-.4-.92-.59-1.43-.59-.52 0-1.04.2-1.43.59L10.3 9.45l-7.72 7.72c-.78.78-.78 2.05 0 2.83L4 21.41c.39.39.9.59 1.41.59.51 0 1.02-.2 1.41-.59l7.78-7.78 2.81-2.81c.8-.78.8-2.07 0-2.86zM5.41 20L4 18.59l7.72-7.72 1.47 1.35L5.41 20z\"/>\n",
              "  </svg>\n",
              "      </button>\n",
              "      \n",
              "  <style>\n",
              "    .colab-df-container {\n",
              "      display:flex;\n",
              "      flex-wrap:wrap;\n",
              "      gap: 12px;\n",
              "    }\n",
              "\n",
              "    .colab-df-convert {\n",
              "      background-color: #E8F0FE;\n",
              "      border: none;\n",
              "      border-radius: 50%;\n",
              "      cursor: pointer;\n",
              "      display: none;\n",
              "      fill: #1967D2;\n",
              "      height: 32px;\n",
              "      padding: 0 0 0 0;\n",
              "      width: 32px;\n",
              "    }\n",
              "\n",
              "    .colab-df-convert:hover {\n",
              "      background-color: #E2EBFA;\n",
              "      box-shadow: 0px 1px 2px rgba(60, 64, 67, 0.3), 0px 1px 3px 1px rgba(60, 64, 67, 0.15);\n",
              "      fill: #174EA6;\n",
              "    }\n",
              "\n",
              "    [theme=dark] .colab-df-convert {\n",
              "      background-color: #3B4455;\n",
              "      fill: #D2E3FC;\n",
              "    }\n",
              "\n",
              "    [theme=dark] .colab-df-convert:hover {\n",
              "      background-color: #434B5C;\n",
              "      box-shadow: 0px 1px 3px 1px rgba(0, 0, 0, 0.15);\n",
              "      filter: drop-shadow(0px 1px 2px rgba(0, 0, 0, 0.3));\n",
              "      fill: #FFFFFF;\n",
              "    }\n",
              "  </style>\n",
              "\n",
              "      <script>\n",
              "        const buttonEl =\n",
              "          document.querySelector('#df-4e61567e-074b-42b6-8094-f15226a1819f button.colab-df-convert');\n",
              "        buttonEl.style.display =\n",
              "          google.colab.kernel.accessAllowed ? 'block' : 'none';\n",
              "\n",
              "        async function convertToInteractive(key) {\n",
              "          const element = document.querySelector('#df-4e61567e-074b-42b6-8094-f15226a1819f');\n",
              "          const dataTable =\n",
              "            await google.colab.kernel.invokeFunction('convertToInteractive',\n",
              "                                                     [key], {});\n",
              "          if (!dataTable) return;\n",
              "\n",
              "          const docLinkHtml = 'Like what you see? Visit the ' +\n",
              "            '<a target=\"_blank\" href=https://colab.research.google.com/notebooks/data_table.ipynb>data table notebook</a>'\n",
              "            + ' to learn more about interactive tables.';\n",
              "          element.innerHTML = '';\n",
              "          dataTable['output_type'] = 'display_data';\n",
              "          await google.colab.output.renderOutput(dataTable, element);\n",
              "          const docLink = document.createElement('div');\n",
              "          docLink.innerHTML = docLinkHtml;\n",
              "          element.appendChild(docLink);\n",
              "        }\n",
              "      </script>\n",
              "    </div>\n",
              "  </div>\n",
              "  "
            ]
          },
          "metadata": {}
        }
      ]
    },
    {
      "cell_type": "markdown",
      "source": [
        "Here we combine both the files into one and plot a histogram showing that the dataset has equal number of training values for each of the 24 letters. As a reminder, 2 of the 26 alphabets in the Sign Language MNIST require movement of the hand, so we are classifying the rest of the 24 alphabets. (The two alphabets are label 9 = J and label 25 = Z, which you dont see the histogram plot below.)\n",
        "\n",
        "The total number of images are 34627, the summation of the number of training and testing datasets.\n"
      ],
      "metadata": {
        "id": "e6H6JqgUbNoc"
      }
    },
    {
      "cell_type": "code",
      "source": [
        "df = pd.concat([df_train,df_test])\n",
        "display(df.shape)\n",
        "display(df.describe())\n",
        "\n",
        "\n",
        "plt.figure(figsize = (10,10)) # Label Count\n",
        "sns.set_style(\"darkgrid\")\n",
        "sns.countplot(df['label'])"
      ],
      "metadata": {
        "colab": {
          "base_uri": "https://localhost:8080/",
          "height": 1000
        },
        "id": "Lxy9ZWtiFdvh",
        "outputId": "934fde06-4ba1-4f7e-8597-9f8b9c501fab"
      },
      "execution_count": 6,
      "outputs": [
        {
          "output_type": "display_data",
          "data": {
            "text/plain": [
              "(34627, 785)"
            ]
          },
          "metadata": {}
        },
        {
          "output_type": "display_data",
          "data": {
            "text/plain": [
              "              label        pixel1        pixel2        pixel3        pixel4  \\\n",
              "count  34627.000000  34627.000000  34627.000000  34627.000000  34627.000000   \n",
              "mean      12.096890    145.857077    148.903226    151.677824    153.984983   \n",
              "std        7.333559     41.839313     40.355637     39.355866     38.762706   \n",
              "min        0.000000      0.000000      0.000000      0.000000      0.000000   \n",
              "25%        5.000000    122.000000    126.000000    130.000000    133.000000   \n",
              "50%       12.000000    151.000000    154.000000    156.000000    158.000000   \n",
              "75%       18.000000    175.000000    177.000000    179.000000    180.000000   \n",
              "max       24.000000    255.000000    255.000000    255.000000    255.000000   \n",
              "\n",
              "             pixel5        pixel6        pixel7        pixel8        pixel9  \\\n",
              "count  34627.000000  34627.000000  34627.000000  34627.000000  34627.000000   \n",
              "mean     156.616600    158.904121    160.847171    162.610911    164.293384   \n",
              "std       37.252215     36.130753     35.274594     34.137995     32.882325   \n",
              "min        0.000000      0.000000      0.000000      0.000000      0.000000   \n",
              "25%      137.000000    140.000000    143.000000    145.000000    146.000000   \n",
              "50%      160.000000    163.000000    164.000000    166.000000    167.000000   \n",
              "75%      181.000000    182.000000    184.000000    185.000000    185.000000   \n",
              "max      255.000000    255.000000    255.000000    255.000000    255.000000   \n",
              "\n",
              "       ...      pixel775      pixel776      pixel777      pixel778  \\\n",
              "count  ...  34627.000000  34627.000000  34627.000000  34627.000000   \n",
              "mean   ...    140.574985    147.090479    152.791261    158.403211   \n",
              "std    ...     63.914830     65.438124     64.713282     64.112086   \n",
              "min    ...      0.000000      0.000000      0.000000      0.000000   \n",
              "25%    ...     91.500000     96.000000    102.000000    110.000000   \n",
              "50%    ...    142.000000    161.000000    172.000000    179.000000   \n",
              "75%    ...    196.000000    202.000000    205.000000    207.000000   \n",
              "max    ...    255.000000    255.000000    255.000000    255.000000   \n",
              "\n",
              "           pixel779      pixel780      pixel781      pixel782      pixel783  \\\n",
              "count  34627.000000  34627.000000  34627.000000  34627.000000  34627.000000   \n",
              "mean     161.332140    162.097063    161.923528    161.077136    160.211309   \n",
              "std       64.055046     63.886450     64.166570     63.892399     64.395504   \n",
              "min        0.000000      0.000000      0.000000      0.000000      0.000000   \n",
              "25%      118.000000    122.000000    124.000000    124.000000    124.000000   \n",
              "50%      183.000000    183.000000    183.000000    182.000000    182.000000   \n",
              "75%      208.000000    207.000000    207.000000    206.000000    205.000000   \n",
              "max      255.000000    255.000000    255.000000    255.000000    255.000000   \n",
              "\n",
              "          pixel784  \n",
              "count  34627.00000  \n",
              "mean     158.77919  \n",
              "std       65.25230  \n",
              "min        0.00000  \n",
              "25%      121.00000  \n",
              "50%      181.00000  \n",
              "75%      204.00000  \n",
              "max      255.00000  \n",
              "\n",
              "[8 rows x 785 columns]"
            ],
            "text/html": [
              "\n",
              "  <div id=\"df-585f9e5c-ef54-4f29-b17e-f6012af38abb\">\n",
              "    <div class=\"colab-df-container\">\n",
              "      <div>\n",
              "<style scoped>\n",
              "    .dataframe tbody tr th:only-of-type {\n",
              "        vertical-align: middle;\n",
              "    }\n",
              "\n",
              "    .dataframe tbody tr th {\n",
              "        vertical-align: top;\n",
              "    }\n",
              "\n",
              "    .dataframe thead th {\n",
              "        text-align: right;\n",
              "    }\n",
              "</style>\n",
              "<table border=\"1\" class=\"dataframe\">\n",
              "  <thead>\n",
              "    <tr style=\"text-align: right;\">\n",
              "      <th></th>\n",
              "      <th>label</th>\n",
              "      <th>pixel1</th>\n",
              "      <th>pixel2</th>\n",
              "      <th>pixel3</th>\n",
              "      <th>pixel4</th>\n",
              "      <th>pixel5</th>\n",
              "      <th>pixel6</th>\n",
              "      <th>pixel7</th>\n",
              "      <th>pixel8</th>\n",
              "      <th>pixel9</th>\n",
              "      <th>...</th>\n",
              "      <th>pixel775</th>\n",
              "      <th>pixel776</th>\n",
              "      <th>pixel777</th>\n",
              "      <th>pixel778</th>\n",
              "      <th>pixel779</th>\n",
              "      <th>pixel780</th>\n",
              "      <th>pixel781</th>\n",
              "      <th>pixel782</th>\n",
              "      <th>pixel783</th>\n",
              "      <th>pixel784</th>\n",
              "    </tr>\n",
              "  </thead>\n",
              "  <tbody>\n",
              "    <tr>\n",
              "      <th>count</th>\n",
              "      <td>34627.000000</td>\n",
              "      <td>34627.000000</td>\n",
              "      <td>34627.000000</td>\n",
              "      <td>34627.000000</td>\n",
              "      <td>34627.000000</td>\n",
              "      <td>34627.000000</td>\n",
              "      <td>34627.000000</td>\n",
              "      <td>34627.000000</td>\n",
              "      <td>34627.000000</td>\n",
              "      <td>34627.000000</td>\n",
              "      <td>...</td>\n",
              "      <td>34627.000000</td>\n",
              "      <td>34627.000000</td>\n",
              "      <td>34627.000000</td>\n",
              "      <td>34627.000000</td>\n",
              "      <td>34627.000000</td>\n",
              "      <td>34627.000000</td>\n",
              "      <td>34627.000000</td>\n",
              "      <td>34627.000000</td>\n",
              "      <td>34627.000000</td>\n",
              "      <td>34627.00000</td>\n",
              "    </tr>\n",
              "    <tr>\n",
              "      <th>mean</th>\n",
              "      <td>12.096890</td>\n",
              "      <td>145.857077</td>\n",
              "      <td>148.903226</td>\n",
              "      <td>151.677824</td>\n",
              "      <td>153.984983</td>\n",
              "      <td>156.616600</td>\n",
              "      <td>158.904121</td>\n",
              "      <td>160.847171</td>\n",
              "      <td>162.610911</td>\n",
              "      <td>164.293384</td>\n",
              "      <td>...</td>\n",
              "      <td>140.574985</td>\n",
              "      <td>147.090479</td>\n",
              "      <td>152.791261</td>\n",
              "      <td>158.403211</td>\n",
              "      <td>161.332140</td>\n",
              "      <td>162.097063</td>\n",
              "      <td>161.923528</td>\n",
              "      <td>161.077136</td>\n",
              "      <td>160.211309</td>\n",
              "      <td>158.77919</td>\n",
              "    </tr>\n",
              "    <tr>\n",
              "      <th>std</th>\n",
              "      <td>7.333559</td>\n",
              "      <td>41.839313</td>\n",
              "      <td>40.355637</td>\n",
              "      <td>39.355866</td>\n",
              "      <td>38.762706</td>\n",
              "      <td>37.252215</td>\n",
              "      <td>36.130753</td>\n",
              "      <td>35.274594</td>\n",
              "      <td>34.137995</td>\n",
              "      <td>32.882325</td>\n",
              "      <td>...</td>\n",
              "      <td>63.914830</td>\n",
              "      <td>65.438124</td>\n",
              "      <td>64.713282</td>\n",
              "      <td>64.112086</td>\n",
              "      <td>64.055046</td>\n",
              "      <td>63.886450</td>\n",
              "      <td>64.166570</td>\n",
              "      <td>63.892399</td>\n",
              "      <td>64.395504</td>\n",
              "      <td>65.25230</td>\n",
              "    </tr>\n",
              "    <tr>\n",
              "      <th>min</th>\n",
              "      <td>0.000000</td>\n",
              "      <td>0.000000</td>\n",
              "      <td>0.000000</td>\n",
              "      <td>0.000000</td>\n",
              "      <td>0.000000</td>\n",
              "      <td>0.000000</td>\n",
              "      <td>0.000000</td>\n",
              "      <td>0.000000</td>\n",
              "      <td>0.000000</td>\n",
              "      <td>0.000000</td>\n",
              "      <td>...</td>\n",
              "      <td>0.000000</td>\n",
              "      <td>0.000000</td>\n",
              "      <td>0.000000</td>\n",
              "      <td>0.000000</td>\n",
              "      <td>0.000000</td>\n",
              "      <td>0.000000</td>\n",
              "      <td>0.000000</td>\n",
              "      <td>0.000000</td>\n",
              "      <td>0.000000</td>\n",
              "      <td>0.00000</td>\n",
              "    </tr>\n",
              "    <tr>\n",
              "      <th>25%</th>\n",
              "      <td>5.000000</td>\n",
              "      <td>122.000000</td>\n",
              "      <td>126.000000</td>\n",
              "      <td>130.000000</td>\n",
              "      <td>133.000000</td>\n",
              "      <td>137.000000</td>\n",
              "      <td>140.000000</td>\n",
              "      <td>143.000000</td>\n",
              "      <td>145.000000</td>\n",
              "      <td>146.000000</td>\n",
              "      <td>...</td>\n",
              "      <td>91.500000</td>\n",
              "      <td>96.000000</td>\n",
              "      <td>102.000000</td>\n",
              "      <td>110.000000</td>\n",
              "      <td>118.000000</td>\n",
              "      <td>122.000000</td>\n",
              "      <td>124.000000</td>\n",
              "      <td>124.000000</td>\n",
              "      <td>124.000000</td>\n",
              "      <td>121.00000</td>\n",
              "    </tr>\n",
              "    <tr>\n",
              "      <th>50%</th>\n",
              "      <td>12.000000</td>\n",
              "      <td>151.000000</td>\n",
              "      <td>154.000000</td>\n",
              "      <td>156.000000</td>\n",
              "      <td>158.000000</td>\n",
              "      <td>160.000000</td>\n",
              "      <td>163.000000</td>\n",
              "      <td>164.000000</td>\n",
              "      <td>166.000000</td>\n",
              "      <td>167.000000</td>\n",
              "      <td>...</td>\n",
              "      <td>142.000000</td>\n",
              "      <td>161.000000</td>\n",
              "      <td>172.000000</td>\n",
              "      <td>179.000000</td>\n",
              "      <td>183.000000</td>\n",
              "      <td>183.000000</td>\n",
              "      <td>183.000000</td>\n",
              "      <td>182.000000</td>\n",
              "      <td>182.000000</td>\n",
              "      <td>181.00000</td>\n",
              "    </tr>\n",
              "    <tr>\n",
              "      <th>75%</th>\n",
              "      <td>18.000000</td>\n",
              "      <td>175.000000</td>\n",
              "      <td>177.000000</td>\n",
              "      <td>179.000000</td>\n",
              "      <td>180.000000</td>\n",
              "      <td>181.000000</td>\n",
              "      <td>182.000000</td>\n",
              "      <td>184.000000</td>\n",
              "      <td>185.000000</td>\n",
              "      <td>185.000000</td>\n",
              "      <td>...</td>\n",
              "      <td>196.000000</td>\n",
              "      <td>202.000000</td>\n",
              "      <td>205.000000</td>\n",
              "      <td>207.000000</td>\n",
              "      <td>208.000000</td>\n",
              "      <td>207.000000</td>\n",
              "      <td>207.000000</td>\n",
              "      <td>206.000000</td>\n",
              "      <td>205.000000</td>\n",
              "      <td>204.00000</td>\n",
              "    </tr>\n",
              "    <tr>\n",
              "      <th>max</th>\n",
              "      <td>24.000000</td>\n",
              "      <td>255.000000</td>\n",
              "      <td>255.000000</td>\n",
              "      <td>255.000000</td>\n",
              "      <td>255.000000</td>\n",
              "      <td>255.000000</td>\n",
              "      <td>255.000000</td>\n",
              "      <td>255.000000</td>\n",
              "      <td>255.000000</td>\n",
              "      <td>255.000000</td>\n",
              "      <td>...</td>\n",
              "      <td>255.000000</td>\n",
              "      <td>255.000000</td>\n",
              "      <td>255.000000</td>\n",
              "      <td>255.000000</td>\n",
              "      <td>255.000000</td>\n",
              "      <td>255.000000</td>\n",
              "      <td>255.000000</td>\n",
              "      <td>255.000000</td>\n",
              "      <td>255.000000</td>\n",
              "      <td>255.00000</td>\n",
              "    </tr>\n",
              "  </tbody>\n",
              "</table>\n",
              "<p>8 rows × 785 columns</p>\n",
              "</div>\n",
              "      <button class=\"colab-df-convert\" onclick=\"convertToInteractive('df-585f9e5c-ef54-4f29-b17e-f6012af38abb')\"\n",
              "              title=\"Convert this dataframe to an interactive table.\"\n",
              "              style=\"display:none;\">\n",
              "        \n",
              "  <svg xmlns=\"http://www.w3.org/2000/svg\" height=\"24px\"viewBox=\"0 0 24 24\"\n",
              "       width=\"24px\">\n",
              "    <path d=\"M0 0h24v24H0V0z\" fill=\"none\"/>\n",
              "    <path d=\"M18.56 5.44l.94 2.06.94-2.06 2.06-.94-2.06-.94-.94-2.06-.94 2.06-2.06.94zm-11 1L8.5 8.5l.94-2.06 2.06-.94-2.06-.94L8.5 2.5l-.94 2.06-2.06.94zm10 10l.94 2.06.94-2.06 2.06-.94-2.06-.94-.94-2.06-.94 2.06-2.06.94z\"/><path d=\"M17.41 7.96l-1.37-1.37c-.4-.4-.92-.59-1.43-.59-.52 0-1.04.2-1.43.59L10.3 9.45l-7.72 7.72c-.78.78-.78 2.05 0 2.83L4 21.41c.39.39.9.59 1.41.59.51 0 1.02-.2 1.41-.59l7.78-7.78 2.81-2.81c.8-.78.8-2.07 0-2.86zM5.41 20L4 18.59l7.72-7.72 1.47 1.35L5.41 20z\"/>\n",
              "  </svg>\n",
              "      </button>\n",
              "      \n",
              "  <style>\n",
              "    .colab-df-container {\n",
              "      display:flex;\n",
              "      flex-wrap:wrap;\n",
              "      gap: 12px;\n",
              "    }\n",
              "\n",
              "    .colab-df-convert {\n",
              "      background-color: #E8F0FE;\n",
              "      border: none;\n",
              "      border-radius: 50%;\n",
              "      cursor: pointer;\n",
              "      display: none;\n",
              "      fill: #1967D2;\n",
              "      height: 32px;\n",
              "      padding: 0 0 0 0;\n",
              "      width: 32px;\n",
              "    }\n",
              "\n",
              "    .colab-df-convert:hover {\n",
              "      background-color: #E2EBFA;\n",
              "      box-shadow: 0px 1px 2px rgba(60, 64, 67, 0.3), 0px 1px 3px 1px rgba(60, 64, 67, 0.15);\n",
              "      fill: #174EA6;\n",
              "    }\n",
              "\n",
              "    [theme=dark] .colab-df-convert {\n",
              "      background-color: #3B4455;\n",
              "      fill: #D2E3FC;\n",
              "    }\n",
              "\n",
              "    [theme=dark] .colab-df-convert:hover {\n",
              "      background-color: #434B5C;\n",
              "      box-shadow: 0px 1px 3px 1px rgba(0, 0, 0, 0.15);\n",
              "      filter: drop-shadow(0px 1px 2px rgba(0, 0, 0, 0.3));\n",
              "      fill: #FFFFFF;\n",
              "    }\n",
              "  </style>\n",
              "\n",
              "      <script>\n",
              "        const buttonEl =\n",
              "          document.querySelector('#df-585f9e5c-ef54-4f29-b17e-f6012af38abb button.colab-df-convert');\n",
              "        buttonEl.style.display =\n",
              "          google.colab.kernel.accessAllowed ? 'block' : 'none';\n",
              "\n",
              "        async function convertToInteractive(key) {\n",
              "          const element = document.querySelector('#df-585f9e5c-ef54-4f29-b17e-f6012af38abb');\n",
              "          const dataTable =\n",
              "            await google.colab.kernel.invokeFunction('convertToInteractive',\n",
              "                                                     [key], {});\n",
              "          if (!dataTable) return;\n",
              "\n",
              "          const docLinkHtml = 'Like what you see? Visit the ' +\n",
              "            '<a target=\"_blank\" href=https://colab.research.google.com/notebooks/data_table.ipynb>data table notebook</a>'\n",
              "            + ' to learn more about interactive tables.';\n",
              "          element.innerHTML = '';\n",
              "          dataTable['output_type'] = 'display_data';\n",
              "          await google.colab.output.renderOutput(dataTable, element);\n",
              "          const docLink = document.createElement('div');\n",
              "          docLink.innerHTML = docLinkHtml;\n",
              "          element.appendChild(docLink);\n",
              "        }\n",
              "      </script>\n",
              "    </div>\n",
              "  </div>\n",
              "  "
            ]
          },
          "metadata": {}
        },
        {
          "output_type": "stream",
          "name": "stderr",
          "text": [
            "/usr/local/lib/python3.7/dist-packages/seaborn/_decorators.py:43: FutureWarning: Pass the following variable as a keyword arg: x. From version 0.12, the only valid positional argument will be `data`, and passing other arguments without an explicit keyword will result in an error or misinterpretation.\n",
            "  FutureWarning\n"
          ]
        },
        {
          "output_type": "execute_result",
          "data": {
            "text/plain": [
              "<matplotlib.axes._subplots.AxesSubplot at 0x7f5b3366c450>"
            ]
          },
          "metadata": {},
          "execution_count": 6
        },
        {
          "output_type": "display_data",
          "data": {
            "text/plain": [
              "<Figure size 720x720 with 1 Axes>"
            ],
            "image/png": "[encoded data removed]"
          },
          "metadata": {
            "needs_background": "light"
          }
        }
      ]
    },
    {
      "cell_type": "markdown",
      "source": [
        "# Data Description"
      ],
      "metadata": {
        "id": "BySowk5m_h5P"
      }
    },
    {
      "cell_type": "markdown",
      "source": [
        "The number of classes = 24, ie the label (alphabet) values."
      ],
      "metadata": {
        "id": "zYeWYBldflD4"
      }
    },
    {
      "cell_type": "code",
      "source": [
        "labels = df.label.unique()\n",
        "labels\n",
        "\n"
      ],
      "metadata": {
        "id": "H75nHAm23T8V",
        "colab": {
          "base_uri": "https://localhost:8080/"
        },
        "outputId": "36cd65ca-de33-4343-872c-9de78931414a"
      },
      "execution_count": 7,
      "outputs": [
        {
          "output_type": "execute_result",
          "data": {
            "text/plain": [
              "array([ 3,  6,  2, 13, 16,  8, 22, 18, 10, 20, 17, 19, 21, 23, 24,  1, 12,\n",
              "       11, 15,  4,  0,  5,  7, 14])"
            ]
          },
          "metadata": {},
          "execution_count": 7
        }
      ]
    },
    {
      "cell_type": "code",
      "source": [
        "#getting all the letters\n",
        "letter = df.drop_duplicates(subset = [\"label\"])\n",
        "\n",
        "letter = letter.drop(columns = [\"label\"])\n",
        "print(letter.shape)\n",
        "\n"
      ],
      "metadata": {
        "colab": {
          "base_uri": "https://localhost:8080/"
        },
        "id": "RhOv5yUdimlv",
        "outputId": "7d8fecb5-a137-4049-adca-bb15cbe06c10"
      },
      "execution_count": 8,
      "outputs": [
        {
          "output_type": "stream",
          "name": "stdout",
          "text": [
            "(24, 784)\n"
          ]
        }
      ]
    },
    {
      "cell_type": "markdown",
      "source": [
        "The dataset has already been cropped, grayscale and normalized.\n",
        "We have 24 classes for the 24 alphabets, each image is 28x28, a total of 784 pixels.\n",
        "\n",
        "Here we are displaying our example classes before preprocessing. \n"
      ],
      "metadata": {
        "id": "qc77sCzH3UW6"
      }
    },
    {
      "cell_type": "code",
      "source": [
        "k = 0\n",
        "figure, axis = plt.subplots(nrows=6, ncols=4, figsize=(15,15),)\n",
        "for rows in range(6):\n",
        "  for columns in range(4):\n",
        "    img = letter.iloc[k].values.reshape(28,28)\n",
        "    axis[rows][columns].imshow(img,cmap = \"gray\")\n",
        "    k +=1"
      ],
      "metadata": {
        "colab": {
          "base_uri": "https://localhost:8080/",
          "height": 865
        },
        "id": "9BTR0nf2ittq",
        "outputId": "590b82df-ed94-46ba-f3e5-05588d09adcc"
      },
      "execution_count": 9,
      "outputs": [
        {
          "output_type": "display_data",
          "data": {
            "text/plain": [
              "<Figure size 1080x1080 with 24 Axes>"
            ],
            "image/png": "[encoded data removed]"
          },
          "metadata": {}
        }
      ]
    },
    {
      "cell_type": "markdown",
      "source": [
        "Here we standardize our data using preprocessing from sklearn."
      ],
      "metadata": {
        "id": "wTCHj63V3VfS"
      }
    },
    {
      "cell_type": "code",
      "source": [
        "from sklearn import preprocessing\n",
        "\n",
        "#getting all the letters\n",
        "# letter = df.drop_duplicates(subset = [\"label\"])\n",
        "\n",
        "# print(letter.shape)\n",
        "# print(letter)\n",
        "# letter = letter.drop(columns = [\"label\"])\n",
        "\n",
        "print(letter.shape)\n",
        "letter = preprocessing.scale(letter)\n",
        "print(letter.shape)\n",
        "k = 0\n",
        "figure, axis = plt.subplots(nrows=6, ncols=4, figsize=(15,15),)\n",
        "for rows in range(6):\n",
        "  for columns in range(4):\n",
        "    img = letter[k].reshape(28,28)\n",
        "    axis[rows][columns].imshow(img,cmap = \"gray\")\n",
        "    k +=1\n",
        "\n",
        "\n",
        "# k = 0\n",
        "# figure, axis = plt.subplots(nrows=6, ncols=4, figsize=(15,15),)\n",
        "# for rows in range(6):\n",
        "#   for columns in range(4):\n",
        "#     img = letter.iloc[k].values.reshape(28,28)\n",
        "#     axis[rows][columns].imshow(img,cmap = \"gray\")\n",
        "#     k +=1\n",
        "    \n"
      ],
      "metadata": {
        "id": "4_IHhXJg3VIR",
        "colab": {
          "base_uri": "https://localhost:8080/",
          "height": 900
        },
        "outputId": "4082063d-4ac1-4c89-e4d4-5c2fdcb155fc"
      },
      "execution_count": 10,
      "outputs": [
        {
          "output_type": "stream",
          "name": "stdout",
          "text": [
            "(24, 784)\n",
            "(24, 784)\n"
          ]
        },
        {
          "output_type": "display_data",
          "data": {
            "text/plain": [
              "<Figure size 1080x1080 with 24 Axes>"
            ],
            "image/png": "[encoded data removed]"
          },
          "metadata": {}
        }
      ]
    },
    {
      "cell_type": "markdown",
      "source": [
        "# Heat Map"
      ],
      "metadata": {
        "id": "573brVfm44rC"
      }
    },
    {
      "cell_type": "markdown",
      "source": [
        "Additionally, we wanted to see if we can use a heatmap on these handsigns to compare darker and lighter spots in the image and if it is possible to identify the handsigns from it.\n",
        "\n",
        "We make a heatmap where we overlap all of the images of a particular label on each other and corelate each of the pixels to show the darker and lighter values in each hand sign."
      ],
      "metadata": {
        "id": "aVSshd04dBtB"
      }
    },
    {
      "cell_type": "code",
      "source": [
        "print(len(df))"
      ],
      "metadata": {
        "colab": {
          "base_uri": "https://localhost:8080/"
        },
        "id": "KsQAxDBB757o",
        "outputId": "3bdfe3a7-b584-4981-8611-b4c0ba61a01a"
      },
      "execution_count": 11,
      "outputs": [
        {
          "output_type": "stream",
          "name": "stdout",
          "text": [
            "34627\n"
          ]
        }
      ]
    },
    {
      "cell_type": "code",
      "source": [
        "# y = df['label']\n",
        "# # del df['label']\n",
        "\n",
        "# # from sklearn. preprocessing import LabelBinarizer\n",
        "# # label_binarizer = LabelBinarizer ()\n",
        "# # y= label_binarizer.fit_transform(y)\n",
        "# x = df.values\n",
        "# x = x / 255\n",
        "# x = x.reshape(-1,28,28,1)\n",
        "\n",
        "# Normalize the data\n",
        "\n",
        "\n",
        "y = df['label']\n",
        "x = df.values\n",
        "\n",
        "sizeOfImg = 784\n",
        "totalLetters = 24\n",
        "heatmaps = [[0 for pixel in range(sizeOfImg)] for letter in range(totalLetters)] #[[0]*sizeOfImg]*totalLetters\n",
        "\n",
        "lableCount = [0]* totalLetters\n",
        "\n",
        "\n",
        "for k in range(1000):\n",
        "    row = (df.loc[[k]].values.flatten().tolist())\n",
        "    label = row[0] - 1\n",
        "    lableCount[label] += 1\n",
        "    for i in range(1,sizeOfImg):  \n",
        "        heatmaps[label][i] = heatmaps[label][i] + row[i]\n",
        "\n",
        "for k in range(len(lableCount)):\n",
        "    print(k, \" = \" ,lableCount[k], \" images\")\n",
        "    if (lableCount[k] != 0):\n",
        "        label = k\n",
        "        for i in range(sizeOfImg):\n",
        "            heatmaps[k][i] = heatmaps[k][i] / lableCount[label]\n",
        "\n",
        "figureHM, axisHM = plt.subplots(nrows=6, ncols=4, figsize=(15,15),)\n",
        "\n",
        "import cv2\n",
        "\n",
        "k = 0\n",
        "for rowsHM in range(6):\n",
        "    for columnsHM in range(4):\n",
        "        if (lableCount[k] != 0):\n",
        "            imgHM = np.reshape(heatmaps[k], (28,28))\n",
        "            axisHM[rowsHM][columnsHM].imshow(imgHM)\n",
        "        k+=1\n",
        "\n"
      ],
      "metadata": {
        "colab": {
          "base_uri": "https://localhost:8080/",
          "height": 1000
        },
        "id": "OChJtrCR4bjv",
        "outputId": "34dcad34-b28a-4504-8242-256344bd95c1"
      },
      "execution_count": 12,
      "outputs": [
        {
          "output_type": "stream",
          "name": "stdout",
          "text": [
            "0  =  34  images\n",
            "1  =  50  images\n",
            "2  =  41  images\n",
            "3  =  37  images\n",
            "4  =  36  images\n",
            "5  =  50  images\n",
            "6  =  27  images\n",
            "7  =  34  images\n",
            "8  =  0  images\n",
            "9  =  43  images\n",
            "10  =  57  images\n",
            "11  =  34  images\n",
            "12  =  35  images\n",
            "13  =  46  images\n",
            "14  =  46  images\n",
            "15  =  50  images\n",
            "16  =  39  images\n",
            "17  =  46  images\n",
            "18  =  58  images\n",
            "19  =  41  images\n",
            "20  =  43  images\n",
            "21  =  31  images\n",
            "22  =  43  images\n",
            "23  =  79  images\n"
          ]
        },
        {
          "output_type": "display_data",
          "data": {
            "text/plain": [
              "<Figure size 1080x1080 with 24 Axes>"
            ],
            "image/png": "[encoded data removed]"
          },
          "metadata": {}
        }
      ]
    },
    {
      "cell_type": "markdown",
      "source": [
        "# Assignment 2\n",
        "\n",
        "We first used a label binarizer. The label column was replaced (which had values between 1 and 24) with a column for each letter which is a 1 if that entry is the letter that the column represents else 0.\n"
      ],
      "metadata": {
        "id": "eJuUYflGNGMY"
      }
    },
    {
      "cell_type": "code",
      "source": [
        "from sklearn.preprocessing import LabelBinarizer\n",
        "from sklearn.model_selection import train_test_split\n",
        "label_binarizer = LabelBinarizer()\n",
        "\n",
        "labels = df.label\n",
        "images = df.iloc[: , 1:]\n",
        "\n",
        "labels = label_binarizer.fit_transform(labels)\n",
        "\n",
        "\n",
        "df.shape"
      ],
      "metadata": {
        "colab": {
          "base_uri": "https://localhost:8080/"
        },
        "id": "0Dwl0b3FE-UI",
        "outputId": "f0f0b594-3bfe-4e23-eff3-feb8d4313042"
      },
      "execution_count": 13,
      "outputs": [
        {
          "output_type": "execute_result",
          "data": {
            "text/plain": [
              "(34627, 785)"
            ]
          },
          "metadata": {},
          "execution_count": 13
        }
      ]
    },
    {
      "cell_type": "code",
      "source": [
        "labels.shape\n",
        "labels"
      ],
      "metadata": {
        "colab": {
          "base_uri": "https://localhost:8080/"
        },
        "id": "-U76Bz5MZ3-b",
        "outputId": "75aa0165-3f67-417b-b6d3-5ffbd13d505d"
      },
      "execution_count": 14,
      "outputs": [
        {
          "output_type": "execute_result",
          "data": {
            "text/plain": [
              "array([[0, 0, 0, ..., 0, 0, 0],\n",
              "       [0, 0, 0, ..., 0, 0, 0],\n",
              "       [0, 0, 1, ..., 0, 0, 0],\n",
              "       ...,\n",
              "       [0, 0, 1, ..., 0, 0, 0],\n",
              "       [0, 0, 0, ..., 0, 0, 0],\n",
              "       [0, 0, 1, ..., 0, 0, 0]])"
            ]
          },
          "metadata": {},
          "execution_count": 14
        }
      ]
    },
    {
      "cell_type": "code",
      "source": [
        "images.shape\n",
        "images"
      ],
      "metadata": {
        "colab": {
          "base_uri": "https://localhost:8080/",
          "height": 488
        },
        "id": "s835LpT3Z5Yk",
        "outputId": "7ea2e1c5-5bdc-4295-83a6-e7e8226e3a7d"
      },
      "execution_count": 15,
      "outputs": [
        {
          "output_type": "execute_result",
          "data": {
            "text/plain": [
              "      pixel1  pixel2  pixel3  pixel4  pixel5  pixel6  pixel7  pixel8  pixel9  \\\n",
              "0        107     118     127     134     139     143     146     150     153   \n",
              "1        155     157     156     156     156     157     156     158     158   \n",
              "2        187     188     188     187     187     186     187     188     187   \n",
              "3        211     211     212     212     211     210     211     210     210   \n",
              "4        164     167     170     172     176     179     180     184     185   \n",
              "...      ...     ...     ...     ...     ...     ...     ...     ...     ...   \n",
              "7167     135     119     108     102     105      99      61     103     121   \n",
              "7168     157     159     161     164     166     166     171     174     175   \n",
              "7169     190     191     190     191     190     190     192     192     191   \n",
              "7170     201     205     208     209     214     216     218     223     226   \n",
              "7171     173     174     173     174     173     173     175     175     174   \n",
              "\n",
              "      pixel10  ...  pixel775  pixel776  pixel777  pixel778  pixel779  \\\n",
              "0         156  ...       207       207       207       207       206   \n",
              "1         157  ...        69       149       128        87        94   \n",
              "2         186  ...       202       201       200       199       198   \n",
              "3         211  ...       235       234       233       231       230   \n",
              "4         186  ...        92       105       105       108       133   \n",
              "...       ...  ...       ...       ...       ...       ...       ...   \n",
              "7167      133  ...       108       112       116       114       118   \n",
              "7168      176  ...       213       213       213       214       213   \n",
              "7169      192  ...       216       215       213       214       214   \n",
              "7170      229  ...       112       169       255       255       237   \n",
              "7171      175  ...       201       200       197       198       198   \n",
              "\n",
              "      pixel780  pixel781  pixel782  pixel783  pixel784  \n",
              "0          206       206       204       203       202  \n",
              "1          163       175       103       135       149  \n",
              "2          199       198       195       194       195  \n",
              "3          226       225       222       229       163  \n",
              "4          163       157       163       164       179  \n",
              "...        ...       ...       ...       ...       ...  \n",
              "7167       180       184       176       167       163  \n",
              "7168       211       210       210       209       208  \n",
              "7169       213       210       211       209       208  \n",
              "7170       113        91        67        70        63  \n",
              "7171       197       195       195       193       192  \n",
              "\n",
              "[34627 rows x 784 columns]"
            ],
            "text/html": [
              "\n",
              "  <div id=\"df-34879a62-5204-41af-bd74-a970fdad3148\">\n",
              "    <div class=\"colab-df-container\">\n",
              "      <div>\n",
              "<style scoped>\n",
              "    .dataframe tbody tr th:only-of-type {\n",
              "        vertical-align: middle;\n",
              "    }\n",
              "\n",
              "    .dataframe tbody tr th {\n",
              "        vertical-align: top;\n",
              "    }\n",
              "\n",
              "    .dataframe thead th {\n",
              "        text-align: right;\n",
              "    }\n",
              "</style>\n",
              "<table border=\"1\" class=\"dataframe\">\n",
              "  <thead>\n",
              "    <tr style=\"text-align: right;\">\n",
              "      <th></th>\n",
              "      <th>pixel1</th>\n",
              "      <th>pixel2</th>\n",
              "      <th>pixel3</th>\n",
              "      <th>pixel4</th>\n",
              "      <th>pixel5</th>\n",
              "      <th>pixel6</th>\n",
              "      <th>pixel7</th>\n",
              "      <th>pixel8</th>\n",
              "      <th>pixel9</th>\n",
              "      <th>pixel10</th>\n",
              "      <th>...</th>\n",
              "      <th>pixel775</th>\n",
              "      <th>pixel776</th>\n",
              "      <th>pixel777</th>\n",
              "      <th>pixel778</th>\n",
              "      <th>pixel779</th>\n",
              "      <th>pixel780</th>\n",
              "      <th>pixel781</th>\n",
              "      <th>pixel782</th>\n",
              "      <th>pixel783</th>\n",
              "      <th>pixel784</th>\n",
              "    </tr>\n",
              "  </thead>\n",
              "  <tbody>\n",
              "    <tr>\n",
              "      <th>0</th>\n",
              "      <td>107</td>\n",
              "      <td>118</td>\n",
              "      <td>127</td>\n",
              "      <td>134</td>\n",
              "      <td>139</td>\n",
              "      <td>143</td>\n",
              "      <td>146</td>\n",
              "      <td>150</td>\n",
              "      <td>153</td>\n",
              "      <td>156</td>\n",
              "      <td>...</td>\n",
              "      <td>207</td>\n",
              "      <td>207</td>\n",
              "      <td>207</td>\n",
              "      <td>207</td>\n",
              "      <td>206</td>\n",
              "      <td>206</td>\n",
              "      <td>206</td>\n",
              "      <td>204</td>\n",
              "      <td>203</td>\n",
              "      <td>202</td>\n",
              "    </tr>\n",
              "    <tr>\n",
              "      <th>1</th>\n",
              "      <td>155</td>\n",
              "      <td>157</td>\n",
              "      <td>156</td>\n",
              "      <td>156</td>\n",
              "      <td>156</td>\n",
              "      <td>157</td>\n",
              "      <td>156</td>\n",
              "      <td>158</td>\n",
              "      <td>158</td>\n",
              "      <td>157</td>\n",
              "      <td>...</td>\n",
              "      <td>69</td>\n",
              "      <td>149</td>\n",
              "      <td>128</td>\n",
              "      <td>87</td>\n",
              "      <td>94</td>\n",
              "      <td>163</td>\n",
              "      <td>175</td>\n",
              "      <td>103</td>\n",
              "      <td>135</td>\n",
              "      <td>149</td>\n",
              "    </tr>\n",
              "    <tr>\n",
              "      <th>2</th>\n",
              "      <td>187</td>\n",
              "      <td>188</td>\n",
              "      <td>188</td>\n",
              "      <td>187</td>\n",
              "      <td>187</td>\n",
              "      <td>186</td>\n",
              "      <td>187</td>\n",
              "      <td>188</td>\n",
              "      <td>187</td>\n",
              "      <td>186</td>\n",
              "      <td>...</td>\n",
              "      <td>202</td>\n",
              "      <td>201</td>\n",
              "      <td>200</td>\n",
              "      <td>199</td>\n",
              "      <td>198</td>\n",
              "      <td>199</td>\n",
              "      <td>198</td>\n",
              "      <td>195</td>\n",
              "      <td>194</td>\n",
              "      <td>195</td>\n",
              "    </tr>\n",
              "    <tr>\n",
              "      <th>3</th>\n",
              "      <td>211</td>\n",
              "      <td>211</td>\n",
              "      <td>212</td>\n",
              "      <td>212</td>\n",
              "      <td>211</td>\n",
              "      <td>210</td>\n",
              "      <td>211</td>\n",
              "      <td>210</td>\n",
              "      <td>210</td>\n",
              "      <td>211</td>\n",
              "      <td>...</td>\n",
              "      <td>235</td>\n",
              "      <td>234</td>\n",
              "      <td>233</td>\n",
              "      <td>231</td>\n",
              "      <td>230</td>\n",
              "      <td>226</td>\n",
              "      <td>225</td>\n",
              "      <td>222</td>\n",
              "      <td>229</td>\n",
              "      <td>163</td>\n",
              "    </tr>\n",
              "    <tr>\n",
              "      <th>4</th>\n",
              "      <td>164</td>\n",
              "      <td>167</td>\n",
              "      <td>170</td>\n",
              "      <td>172</td>\n",
              "      <td>176</td>\n",
              "      <td>179</td>\n",
              "      <td>180</td>\n",
              "      <td>184</td>\n",
              "      <td>185</td>\n",
              "      <td>186</td>\n",
              "      <td>...</td>\n",
              "      <td>92</td>\n",
              "      <td>105</td>\n",
              "      <td>105</td>\n",
              "      <td>108</td>\n",
              "      <td>133</td>\n",
              "      <td>163</td>\n",
              "      <td>157</td>\n",
              "      <td>163</td>\n",
              "      <td>164</td>\n",
              "      <td>179</td>\n",
              "    </tr>\n",
              "    <tr>\n",
              "      <th>...</th>\n",
              "      <td>...</td>\n",
              "      <td>...</td>\n",
              "      <td>...</td>\n",
              "      <td>...</td>\n",
              "      <td>...</td>\n",
              "      <td>...</td>\n",
              "      <td>...</td>\n",
              "      <td>...</td>\n",
              "      <td>...</td>\n",
              "      <td>...</td>\n",
              "      <td>...</td>\n",
              "      <td>...</td>\n",
              "      <td>...</td>\n",
              "      <td>...</td>\n",
              "      <td>...</td>\n",
              "      <td>...</td>\n",
              "      <td>...</td>\n",
              "      <td>...</td>\n",
              "      <td>...</td>\n",
              "      <td>...</td>\n",
              "      <td>...</td>\n",
              "    </tr>\n",
              "    <tr>\n",
              "      <th>7167</th>\n",
              "      <td>135</td>\n",
              "      <td>119</td>\n",
              "      <td>108</td>\n",
              "      <td>102</td>\n",
              "      <td>105</td>\n",
              "      <td>99</td>\n",
              "      <td>61</td>\n",
              "      <td>103</td>\n",
              "      <td>121</td>\n",
              "      <td>133</td>\n",
              "      <td>...</td>\n",
              "      <td>108</td>\n",
              "      <td>112</td>\n",
              "      <td>116</td>\n",
              "      <td>114</td>\n",
              "      <td>118</td>\n",
              "      <td>180</td>\n",
              "      <td>184</td>\n",
              "      <td>176</td>\n",
              "      <td>167</td>\n",
              "      <td>163</td>\n",
              "    </tr>\n",
              "    <tr>\n",
              "      <th>7168</th>\n",
              "      <td>157</td>\n",
              "      <td>159</td>\n",
              "      <td>161</td>\n",
              "      <td>164</td>\n",
              "      <td>166</td>\n",
              "      <td>166</td>\n",
              "      <td>171</td>\n",
              "      <td>174</td>\n",
              "      <td>175</td>\n",
              "      <td>176</td>\n",
              "      <td>...</td>\n",
              "      <td>213</td>\n",
              "      <td>213</td>\n",
              "      <td>213</td>\n",
              "      <td>214</td>\n",
              "      <td>213</td>\n",
              "      <td>211</td>\n",
              "      <td>210</td>\n",
              "      <td>210</td>\n",
              "      <td>209</td>\n",
              "      <td>208</td>\n",
              "    </tr>\n",
              "    <tr>\n",
              "      <th>7169</th>\n",
              "      <td>190</td>\n",
              "      <td>191</td>\n",
              "      <td>190</td>\n",
              "      <td>191</td>\n",
              "      <td>190</td>\n",
              "      <td>190</td>\n",
              "      <td>192</td>\n",
              "      <td>192</td>\n",
              "      <td>191</td>\n",
              "      <td>192</td>\n",
              "      <td>...</td>\n",
              "      <td>216</td>\n",
              "      <td>215</td>\n",
              "      <td>213</td>\n",
              "      <td>214</td>\n",
              "      <td>214</td>\n",
              "      <td>213</td>\n",
              "      <td>210</td>\n",
              "      <td>211</td>\n",
              "      <td>209</td>\n",
              "      <td>208</td>\n",
              "    </tr>\n",
              "    <tr>\n",
              "      <th>7170</th>\n",
              "      <td>201</td>\n",
              "      <td>205</td>\n",
              "      <td>208</td>\n",
              "      <td>209</td>\n",
              "      <td>214</td>\n",
              "      <td>216</td>\n",
              "      <td>218</td>\n",
              "      <td>223</td>\n",
              "      <td>226</td>\n",
              "      <td>229</td>\n",
              "      <td>...</td>\n",
              "      <td>112</td>\n",
              "      <td>169</td>\n",
              "      <td>255</td>\n",
              "      <td>255</td>\n",
              "      <td>237</td>\n",
              "      <td>113</td>\n",
              "      <td>91</td>\n",
              "      <td>67</td>\n",
              "      <td>70</td>\n",
              "      <td>63</td>\n",
              "    </tr>\n",
              "    <tr>\n",
              "      <th>7171</th>\n",
              "      <td>173</td>\n",
              "      <td>174</td>\n",
              "      <td>173</td>\n",
              "      <td>174</td>\n",
              "      <td>173</td>\n",
              "      <td>173</td>\n",
              "      <td>175</td>\n",
              "      <td>175</td>\n",
              "      <td>174</td>\n",
              "      <td>175</td>\n",
              "      <td>...</td>\n",
              "      <td>201</td>\n",
              "      <td>200</td>\n",
              "      <td>197</td>\n",
              "      <td>198</td>\n",
              "      <td>198</td>\n",
              "      <td>197</td>\n",
              "      <td>195</td>\n",
              "      <td>195</td>\n",
              "      <td>193</td>\n",
              "      <td>192</td>\n",
              "    </tr>\n",
              "  </tbody>\n",
              "</table>\n",
              "<p>34627 rows × 784 columns</p>\n",
              "</div>\n",
              "      <button class=\"colab-df-convert\" onclick=\"convertToInteractive('df-34879a62-5204-41af-bd74-a970fdad3148')\"\n",
              "              title=\"Convert this dataframe to an interactive table.\"\n",
              "              style=\"display:none;\">\n",
              "        \n",
              "  <svg xmlns=\"http://www.w3.org/2000/svg\" height=\"24px\"viewBox=\"0 0 24 24\"\n",
              "       width=\"24px\">\n",
              "    <path d=\"M0 0h24v24H0V0z\" fill=\"none\"/>\n",
              "    <path d=\"M18.56 5.44l.94 2.06.94-2.06 2.06-.94-2.06-.94-.94-2.06-.94 2.06-2.06.94zm-11 1L8.5 8.5l.94-2.06 2.06-.94-2.06-.94L8.5 2.5l-.94 2.06-2.06.94zm10 10l.94 2.06.94-2.06 2.06-.94-2.06-.94-.94-2.06-.94 2.06-2.06.94z\"/><path d=\"M17.41 7.96l-1.37-1.37c-.4-.4-.92-.59-1.43-.59-.52 0-1.04.2-1.43.59L10.3 9.45l-7.72 7.72c-.78.78-.78 2.05 0 2.83L4 21.41c.39.39.9.59 1.41.59.51 0 1.02-.2 1.41-.59l7.78-7.78 2.81-2.81c.8-.78.8-2.07 0-2.86zM5.41 20L4 18.59l7.72-7.72 1.47 1.35L5.41 20z\"/>\n",
              "  </svg>\n",
              "      </button>\n",
              "      \n",
              "  <style>\n",
              "    .colab-df-container {\n",
              "      display:flex;\n",
              "      flex-wrap:wrap;\n",
              "      gap: 12px;\n",
              "    }\n",
              "\n",
              "    .colab-df-convert {\n",
              "      background-color: #E8F0FE;\n",
              "      border: none;\n",
              "      border-radius: 50%;\n",
              "      cursor: pointer;\n",
              "      display: none;\n",
              "      fill: #1967D2;\n",
              "      height: 32px;\n",
              "      padding: 0 0 0 0;\n",
              "      width: 32px;\n",
              "    }\n",
              "\n",
              "    .colab-df-convert:hover {\n",
              "      background-color: #E2EBFA;\n",
              "      box-shadow: 0px 1px 2px rgba(60, 64, 67, 0.3), 0px 1px 3px 1px rgba(60, 64, 67, 0.15);\n",
              "      fill: #174EA6;\n",
              "    }\n",
              "\n",
              "    [theme=dark] .colab-df-convert {\n",
              "      background-color: #3B4455;\n",
              "      fill: #D2E3FC;\n",
              "    }\n",
              "\n",
              "    [theme=dark] .colab-df-convert:hover {\n",
              "      background-color: #434B5C;\n",
              "      box-shadow: 0px 1px 3px 1px rgba(0, 0, 0, 0.15);\n",
              "      filter: drop-shadow(0px 1px 2px rgba(0, 0, 0, 0.3));\n",
              "      fill: #FFFFFF;\n",
              "    }\n",
              "  </style>\n",
              "\n",
              "      <script>\n",
              "        const buttonEl =\n",
              "          document.querySelector('#df-34879a62-5204-41af-bd74-a970fdad3148 button.colab-df-convert');\n",
              "        buttonEl.style.display =\n",
              "          google.colab.kernel.accessAllowed ? 'block' : 'none';\n",
              "\n",
              "        async function convertToInteractive(key) {\n",
              "          const element = document.querySelector('#df-34879a62-5204-41af-bd74-a970fdad3148');\n",
              "          const dataTable =\n",
              "            await google.colab.kernel.invokeFunction('convertToInteractive',\n",
              "                                                     [key], {});\n",
              "          if (!dataTable) return;\n",
              "\n",
              "          const docLinkHtml = 'Like what you see? Visit the ' +\n",
              "            '<a target=\"_blank\" href=https://colab.research.google.com/notebooks/data_table.ipynb>data table notebook</a>'\n",
              "            + ' to learn more about interactive tables.';\n",
              "          element.innerHTML = '';\n",
              "          dataTable['output_type'] = 'display_data';\n",
              "          await google.colab.output.renderOutput(dataTable, element);\n",
              "          const docLink = document.createElement('div');\n",
              "          docLink.innerHTML = docLinkHtml;\n",
              "          element.appendChild(docLink);\n",
              "        }\n",
              "      </script>\n",
              "    </div>\n",
              "  </div>\n",
              "  "
            ]
          },
          "metadata": {},
          "execution_count": 15
        }
      ]
    },
    {
      "cell_type": "code",
      "source": [
        "X_train, X_test, y_train, y_test = train_test_split(images, labels, test_size=0.20, random_state=7)\n"
      ],
      "metadata": {
        "id": "f7MMIrOTdOgK"
      },
      "execution_count": 16,
      "outputs": []
    },
    {
      "cell_type": "code",
      "source": [
        "X_train.shape"
      ],
      "metadata": {
        "colab": {
          "base_uri": "https://localhost:8080/"
        },
        "id": "BhPma3u4a0Jv",
        "outputId": "41551bec-f8d2-4797-ea3a-f915b337f076"
      },
      "execution_count": 17,
      "outputs": [
        {
          "output_type": "execute_result",
          "data": {
            "text/plain": [
              "(27701, 784)"
            ]
          },
          "metadata": {},
          "execution_count": 17
        }
      ]
    },
    {
      "cell_type": "markdown",
      "source": [
        "We first scale our pixel values by dividing each value by 255. ( Pixel values range from 0-255)."
      ],
      "metadata": {
        "id": "ub8C68aPKpq0"
      }
    },
    {
      "cell_type": "code",
      "source": [
        "#scale\n",
        "X_train = X_train / 225\n",
        "X_test = X_test / 225\n",
        "print(X_train)"
      ],
      "metadata": {
        "id": "hRYeHr8-ip8E",
        "colab": {
          "base_uri": "https://localhost:8080/"
        },
        "outputId": "f6dea6a9-2363-4527-fcdb-f19902d75bae"
      },
      "execution_count": 18,
      "outputs": [
        {
          "output_type": "stream",
          "name": "stdout",
          "text": [
            "         pixel1    pixel2    pixel3    pixel4    pixel5    pixel6    pixel7  \\\n",
            "8127   0.431111  0.457778  0.471111  0.484444  0.506667  0.515556  0.533333   \n",
            "24182  0.688889  0.702222  0.715556  0.728889  0.746667  0.755556  0.768889   \n",
            "5757   0.466667  0.506667  0.591111  0.657778  0.688889  0.720000  0.742222   \n",
            "22057  0.702222  0.702222  0.711111  0.728889  0.733333  0.737778  0.733333   \n",
            "24978  0.617778  0.635556  0.648889  0.657778  0.671111  0.675556  0.680000   \n",
            "...         ...       ...       ...       ...       ...       ...       ...   \n",
            "2583   0.648889  0.657778  0.662222  0.680000  0.684444  0.693333  0.697778   \n",
            "6685   0.791111  0.800000  0.800000  0.800000  0.800000  0.804444  0.804444   \n",
            "13927  0.680000  0.680000  0.680000  0.680000  0.684444  0.684444  0.684444   \n",
            "919    0.817778  0.831111  0.835556  0.840000  0.844444  0.844444  0.848889   \n",
            "10742  0.284444  0.288889  0.297778  0.302222  0.306667  0.355556  0.413333   \n",
            "\n",
            "         pixel8    pixel9   pixel10  ...  pixel775  pixel776  pixel777  \\\n",
            "8127   0.551111  0.560000  0.577778  ...  0.320000  0.417778  0.768889   \n",
            "24182  0.782222  0.786667  0.791111  ...  0.515556  0.440000  0.568889   \n",
            "5757   0.760000  0.773333  0.786667  ...  1.048889  1.071111  1.071111   \n",
            "22057  0.737778  0.746667  0.751111  ...  0.386667  0.248889  0.657778   \n",
            "24978  0.684444  0.684444  0.684444  ...  0.880000  0.968889  0.968889   \n",
            "...         ...       ...       ...  ...       ...       ...       ...   \n",
            "2583   0.702222  0.706667  0.706667  ...  0.640000  0.831111  0.795556   \n",
            "6685   0.804444  0.808889  0.813333  ...  0.968889  0.968889  0.968889   \n",
            "13927  0.684444  0.675556  0.671111  ...  0.408889  0.248889  0.435556   \n",
            "919    0.866667  0.831111  0.831111  ...  0.875556  0.635556  0.502222   \n",
            "10742  0.462222  0.506667  0.551111  ...  0.462222  0.413333  0.484444   \n",
            "\n",
            "       pixel778  pixel779  pixel780  pixel781  pixel782  pixel783  pixel784  \n",
            "8127   0.813333  0.782222  0.791111  0.791111  0.791111  0.786667  0.786667  \n",
            "24182  0.600000  0.608889  0.608889  0.564444  0.706667  0.768889  0.635556  \n",
            "5757   1.075556  1.088889  1.088889  1.084444  1.080000  1.080000  1.084444  \n",
            "22057  0.844444  0.840000  0.831111  0.831111  0.826667  0.817778  0.804444  \n",
            "24978  0.968889  0.968889  0.968889  0.964444  0.960000  0.955556  0.955556  \n",
            "...         ...       ...       ...       ...       ...       ...       ...  \n",
            "2583   0.800000  0.791111  0.791111  0.791111  0.782222  0.777778  0.773333  \n",
            "6685   0.968889  0.964444  0.960000  0.960000  0.955556  0.964444  0.960000  \n",
            "13927  0.826667  0.777778  0.791111  0.782222  0.777778  0.773333  0.768889  \n",
            "919    0.466667  0.435556  0.404444  0.400000  0.386667  0.315556  0.248889  \n",
            "10742  0.795556  0.648889  0.582222  0.528889  0.488889  0.440000  0.368889  \n",
            "\n",
            "[27701 rows x 784 columns]\n"
          ]
        }
      ]
    },
    {
      "cell_type": "code",
      "source": [
        "y_train.shape\n"
      ],
      "metadata": {
        "colab": {
          "base_uri": "https://localhost:8080/"
        },
        "id": "MUbn9oJlapmU",
        "outputId": "1050af50-5872-4c85-acc5-1368f709cd2b"
      },
      "execution_count": 19,
      "outputs": [
        {
          "output_type": "execute_result",
          "data": {
            "text/plain": [
              "(27701, 24)"
            ]
          },
          "metadata": {},
          "execution_count": 19
        }
      ]
    },
    {
      "cell_type": "code",
      "source": [
        "from keras.models import Sequential\n",
        "from keras.layers import Dense, Conv2D , MaxPool2D , Flatten , Dropout , BatchNormalization\n",
        "\n",
        "train_batch_size = 100\n",
        "classes = 24\n",
        "train_epochs = 10"
      ],
      "metadata": {
        "id": "7kK5SNzfY0I6"
      },
      "execution_count": 20,
      "outputs": []
    },
    {
      "cell_type": "markdown",
      "source": [
        "We trained our first model with 1 hidden layer. The layer sizes were 100(input), 50(hidden), and 25(output).\n",
        "The activation functions used was the linear for the hidden layer and relu for the input and output.\n",
        "We trained for 10 epochs.\n"
      ],
      "metadata": {
        "id": "Xm-_sXTYMx7H"
      }
    },
    {
      "cell_type": "code",
      "source": [
        "#TODO check Model layers\n",
        "model = Sequential()\n",
        "#model.add(Conv2D(64, kernel_size=(3,3), activation='relu' , input_shape=(28,28,1)))\n",
        "#model.add(MaxPool2D(pool_size= (2,2)))\n",
        "\n",
        "#model.add(Conv2D(36, kernel_size=(3,3), activation='relu' ))\n",
        "#model.add(MaxPool2D(pool_size= (2,2)))\n",
        "\n",
        "#model.add(Flatten())\n",
        "model.add(Dense(100, activation='relu'))\n",
        "model.add(Dense(50, activation='linear'))\n",
        "model.add(Dense(25, activation='relu'))\n",
        "#model.add(Dropout(0,20))\n",
        "\n",
        "model.add(Dense(classes, activation = 'softmax'))"
      ],
      "metadata": {
        "id": "bJvYIBYPQHMK"
      },
      "execution_count": 21,
      "outputs": []
    },
    {
      "cell_type": "code",
      "source": [
        "#TODO compile model\n",
        "# model.compile()\n",
        "model.compile(optimizer = 'rmsprop', loss = 'binary_crossentropy', metrics=['accuracy'])\n"
      ],
      "metadata": {
        "id": "E1B6WTgjMVDz"
      },
      "execution_count": 22,
      "outputs": []
    },
    {
      "cell_type": "code",
      "source": [
        "result_1 = model.fit(X_train, y_train, validation_data= (X_test, y_test), epochs = train_epochs, batch_size = train_batch_size )\n"
      ],
      "metadata": {
        "colab": {
          "base_uri": "https://localhost:8080/"
        },
        "id": "Jwx86WumPyvF",
        "outputId": "c8ffc25f-a44f-4f8c-9272-7f49072d80d3"
      },
      "execution_count": 23,
      "outputs": [
        {
          "output_type": "stream",
          "name": "stdout",
          "text": [
            "Epoch 1/10\n",
            "278/278 [==============================] - 3s 8ms/step - loss: 0.1844 - accuracy: 0.1074 - val_loss: 0.2377 - val_accuracy: 0.0583\n",
            "Epoch 2/10\n",
            "278/278 [==============================] - 2s 7ms/step - loss: 0.1459 - accuracy: 0.2720 - val_loss: 0.1688 - val_accuracy: 0.1310\n",
            "Epoch 3/10\n",
            "278/278 [==============================] - 2s 7ms/step - loss: 0.1209 - accuracy: 0.3977 - val_loss: 0.2771 - val_accuracy: 0.0794\n",
            "Epoch 4/10\n",
            "278/278 [==============================] - 2s 6ms/step - loss: 0.1027 - accuracy: 0.4947 - val_loss: 0.1417 - val_accuracy: 0.2961\n",
            "Epoch 5/10\n",
            "278/278 [==============================] - 2s 7ms/step - loss: 0.0907 - accuracy: 0.5515 - val_loss: 0.1509 - val_accuracy: 0.3204\n",
            "Epoch 6/10\n",
            "278/278 [==============================] - 2s 7ms/step - loss: 0.0815 - accuracy: 0.6031 - val_loss: 0.1905 - val_accuracy: 0.2014\n",
            "Epoch 7/10\n",
            "278/278 [==============================] - 2s 7ms/step - loss: 0.0748 - accuracy: 0.6376 - val_loss: 0.0922 - val_accuracy: 0.5422\n",
            "Epoch 8/10\n",
            "278/278 [==============================] - 2s 7ms/step - loss: 0.0688 - accuracy: 0.6702 - val_loss: 0.1173 - val_accuracy: 0.4620\n",
            "Epoch 9/10\n",
            "278/278 [==============================] - 2s 7ms/step - loss: 0.0639 - accuracy: 0.7007 - val_loss: 0.1485 - val_accuracy: 0.4368\n",
            "Epoch 10/10\n",
            "278/278 [==============================] - 2s 6ms/step - loss: 0.0597 - accuracy: 0.7260 - val_loss: 0.0596 - val_accuracy: 0.7127\n"
          ]
        }
      ]
    },
    {
      "cell_type": "markdown",
      "source": [
        "### Evaluating our Model"
      ],
      "metadata": {
        "id": "IzGHlAAG9B3N"
      }
    },
    {
      "cell_type": "markdown",
      "source": [
        "We use model.predict to create y_pred_test using X_test."
      ],
      "metadata": {
        "id": "VpOlxGZHNK0G"
      }
    },
    {
      "cell_type": "code",
      "source": [
        "y_pred_train = model.predict(X_train.astype(float))\n",
        "\n",
        "# make matrix into binary values based on if >= 0.5\n",
        "for r in range(len(y_pred_train)):\n",
        "  for c in range(len(y_pred_train[0])):\n",
        "    elem = y_pred_train[r][c]\n",
        "    if elem >= 0.5:\n",
        "      y_pred_train[r][c] = 1\n",
        "    else:\n",
        "      y_pred_train[r][c] = 0\n",
        "\n",
        "y_pred_train"
      ],
      "metadata": {
        "colab": {
          "base_uri": "https://localhost:8080/"
        },
        "id": "y3dM6I9dIyRv",
        "outputId": "cbd99e15-b207-4bfd-820c-7b1eaecef07c"
      },
      "execution_count": 24,
      "outputs": [
        {
          "output_type": "stream",
          "name": "stdout",
          "text": [
            "866/866 [==============================] - 2s 2ms/step\n"
          ]
        },
        {
          "output_type": "execute_result",
          "data": {
            "text/plain": [
              "array([[0., 0., 0., ..., 0., 0., 0.],\n",
              "       [0., 0., 0., ..., 0., 0., 1.],\n",
              "       [0., 0., 0., ..., 0., 0., 1.],\n",
              "       ...,\n",
              "       [0., 0., 0., ..., 0., 0., 0.],\n",
              "       [0., 0., 0., ..., 0., 0., 0.],\n",
              "       [0., 0., 0., ..., 0., 0., 0.]], dtype=float32)"
            ]
          },
          "metadata": {},
          "execution_count": 24
        }
      ]
    },
    {
      "cell_type": "code",
      "source": [
        "y_pred_test = model.predict(X_test.astype(float))\n",
        "\n",
        "# make matrix into binary values based on if >= 0.5\n",
        "for r in range(len(y_pred_test)):\n",
        "  for c in range(len(y_pred_test[0])):\n",
        "    elem = y_pred_test[r][c]\n",
        "    if elem >= 0.5:\n",
        "      y_pred_test[r][c] = 1\n",
        "    else:\n",
        "      y_pred_test[r][c] = 0\n",
        "      \n",
        "y_pred_test"
      ],
      "metadata": {
        "colab": {
          "base_uri": "https://localhost:8080/"
        },
        "id": "OGtadMDy_elO",
        "outputId": "f65581ea-294d-4fa4-fb73-bc30a86dff53"
      },
      "execution_count": 25,
      "outputs": [
        {
          "output_type": "stream",
          "name": "stdout",
          "text": [
            "217/217 [==============================] - 0s 2ms/step\n"
          ]
        },
        {
          "output_type": "execute_result",
          "data": {
            "text/plain": [
              "array([[0., 0., 0., ..., 0., 0., 0.],\n",
              "       [1., 0., 0., ..., 0., 0., 0.],\n",
              "       [0., 0., 0., ..., 0., 0., 0.],\n",
              "       ...,\n",
              "       [0., 0., 0., ..., 0., 0., 0.],\n",
              "       [0., 0., 0., ..., 0., 0., 0.],\n",
              "       [0., 0., 0., ..., 0., 0., 1.]], dtype=float32)"
            ]
          },
          "metadata": {},
          "execution_count": 25
        }
      ]
    },
    {
      "cell_type": "markdown",
      "source": [
        "We evaluate our model next using classification report."
      ],
      "metadata": {
        "id": "N1zl2UGkNRXg"
      }
    },
    {
      "cell_type": "code",
      "source": [
        "# classification report\n",
        "from sklearn.metrics import classification_report \n",
        "print(\"TRAINING:\\n\",classification_report(y_train, y_pred_train))\n",
        "print(\"TESTING:\\n\", classification_report(y_test, y_pred_test))"
      ],
      "metadata": {
        "colab": {
          "base_uri": "https://localhost:8080/"
        },
        "id": "h6CeuPBr9D4G",
        "outputId": "750b687b-0f3e-462e-c8d3-18cd5f114829"
      },
      "execution_count": 26,
      "outputs": [
        {
          "output_type": "stream",
          "name": "stdout",
          "text": [
            "TRAINING:\n",
            "               precision    recall  f1-score   support\n",
            "\n",
            "           0       0.84      0.97      0.90      1174\n",
            "           1       1.00      0.82      0.90      1145\n",
            "           2       1.00      0.94      0.97      1130\n",
            "           3       0.71      0.91      0.80      1172\n",
            "           4       0.94      0.87      0.90      1187\n",
            "           5       0.99      0.73      0.84      1163\n",
            "           6       0.88      0.74      0.81      1157\n",
            "           7       0.79      0.94      0.86      1173\n",
            "           8       0.86      0.54      0.66      1148\n",
            "           9       0.71      0.66      0.68      1164\n",
            "          10       0.99      0.67      0.80      1165\n",
            "          11       0.71      0.72      0.72      1177\n",
            "          12       0.90      0.42      0.57      1109\n",
            "          13       0.96      0.87      0.91      1152\n",
            "          14       1.00      0.94      0.97      1143\n",
            "          15       0.85      0.97      0.91      1167\n",
            "          16       1.00      0.07      0.13      1129\n",
            "          17       0.76      0.10      0.18      1143\n",
            "          18       0.76      0.76      0.76      1166\n",
            "          19       0.67      0.16      0.25      1121\n",
            "          20       0.79      0.10      0.17      1149\n",
            "          21       0.52      0.01      0.02      1162\n",
            "          22       0.83      0.85      0.84      1145\n",
            "          23       0.50      0.91      0.65      1160\n",
            "\n",
            "   micro avg       0.82      0.66      0.73     27701\n",
            "   macro avg       0.83      0.65      0.68     27701\n",
            "weighted avg       0.83      0.66      0.68     27701\n",
            " samples avg       0.66      0.66      0.66     27701\n",
            "\n",
            "TESTING:\n",
            "               precision    recall  f1-score   support\n",
            "\n",
            "           0       0.78      0.97      0.86       283\n",
            "           1       1.00      0.79      0.89       297\n",
            "           2       1.00      0.92      0.96       324\n",
            "           3       0.68      0.95      0.79       269\n",
            "           4       0.92      0.86      0.89       268\n",
            "           5       0.98      0.72      0.83       288\n",
            "           6       0.88      0.69      0.77       281\n",
            "           7       0.79      0.91      0.84       276\n",
            "           8       0.89      0.51      0.65       302\n",
            "           9       0.68      0.65      0.67       281\n",
            "          10       0.99      0.62      0.76       285\n",
            "          11       0.65      0.76      0.70       272\n",
            "          12       0.93      0.39      0.55       333\n",
            "          13       0.95      0.89      0.92       290\n",
            "          14       1.00      0.91      0.96       292\n",
            "          15       0.83      0.99      0.90       276\n",
            "          16       1.00      0.07      0.14       309\n",
            "          17       0.71      0.07      0.13       302\n",
            "          18       0.68      0.71      0.69       268\n",
            "          19       0.76      0.20      0.32       306\n",
            "          20       0.87      0.09      0.17       279\n",
            "          21       0.67      0.01      0.01       269\n",
            "          22       0.77      0.82      0.80       286\n",
            "          23       0.49      0.90      0.64       290\n",
            "\n",
            "   micro avg       0.80      0.64      0.71      6926\n",
            "   macro avg       0.83      0.64      0.66      6926\n",
            "weighted avg       0.83      0.64      0.66      6926\n",
            " samples avg       0.64      0.64      0.64      6926\n",
            "\n"
          ]
        },
        {
          "output_type": "stream",
          "name": "stderr",
          "text": [
            "/usr/local/lib/python3.7/dist-packages/sklearn/metrics/_classification.py:1318: UndefinedMetricWarning: Precision and F-score are ill-defined and being set to 0.0 in samples with no predicted labels. Use `zero_division` parameter to control this behavior.\n",
            "  _warn_prf(average, modifier, msg_start, len(result))\n",
            "/usr/local/lib/python3.7/dist-packages/sklearn/metrics/_classification.py:1318: UndefinedMetricWarning: Precision and F-score are ill-defined and being set to 0.0 in samples with no predicted labels. Use `zero_division` parameter to control this behavior.\n",
            "  _warn_prf(average, modifier, msg_start, len(result))\n"
          ]
        }
      ]
    },
    {
      "cell_type": "markdown",
      "source": [
        "# Plotting Graph for accuracy and loss visualization\n",
        "\n"
      ],
      "metadata": {
        "id": "_MKN9T3snDDe"
      }
    },
    {
      "cell_type": "markdown",
      "source": [
        "We plot a graph for accuracy and loss visualization using matplotlib.\n",
        "As we see in the graph, we see an underfitting. Our model performs well on the training set but not on the test set."
      ],
      "metadata": {
        "id": "3XoQ9xdRN4hn"
      }
    },
    {
      "cell_type": "code",
      "source": [
        "import matplotlib.pyplot as plt\n",
        "\n",
        "plt.plot(result_1.history['loss'], label='Training loss')\n",
        "plt.plot(result_1.history['val_loss'], label='Testing loss')\n",
        "plt.xlabel('Epoch')\n",
        "plt.ylabel('Score loss')\n",
        "plt.ylim([0, 0.3])\n",
        "plt.legend()\n",
        "plt.show()\n"
      ],
      "metadata": {
        "colab": {
          "base_uri": "https://localhost:8080/",
          "height": 283
        },
        "id": "rx_3Q4bDnLqw",
        "outputId": "c6edeb1c-4c09-4fd8-e3e5-9af24fbaeab7"
      },
      "execution_count": 27,
      "outputs": [
        {
          "output_type": "display_data",
          "data": {
            "text/plain": [
              "<Figure size 432x288 with 1 Axes>"
            ],
            "image/png": "[encoded data removed]"
          },
          "metadata": {}
        }
      ]
    },
    {
      "cell_type": "code",
      "source": [
        "plt.plot(result_1.history['accuracy'], label='Training accuracy')\n",
        "plt.plot(result_1.history['val_accuracy'], label = 'Testing accuracy')\n",
        "plt.xlabel('Epoch')\n",
        "plt.ylabel('Accuracy')\n",
        "# plt.ylim([0.5, 1])\n",
        "plt.legend(loc='lower right')\n",
        "\n",
        "test_loss, test_acc = model.evaluate(X_test,  y_test, verbose=2)"
      ],
      "metadata": {
        "colab": {
          "base_uri": "https://localhost:8080/",
          "height": 296
        },
        "id": "JiAHonegqjCO",
        "outputId": "31a8142b-02e6-4def-d3ef-c66cd25a1450"
      },
      "execution_count": 28,
      "outputs": [
        {
          "output_type": "stream",
          "name": "stdout",
          "text": [
            "217/217 - 0s - loss: 0.0596 - accuracy: 0.7127 - 413ms/epoch - 2ms/step\n"
          ]
        },
        {
          "output_type": "display_data",
          "data": {
            "text/plain": [
              "<Figure size 432x288 with 1 Axes>"
            ],
            "image/png": "[encoded data removed]"
          },
          "metadata": {}
        }
      ]
    },
    {
      "cell_type": "markdown",
      "source": [
        "We seek to improve our model. Our next approach might be a NN with more convolutional layers. The cause for an underfitting maybe that the model is too simple."
      ],
      "metadata": {
        "id": "GFU2KOo1Obon"
      }
    }
  ]
}